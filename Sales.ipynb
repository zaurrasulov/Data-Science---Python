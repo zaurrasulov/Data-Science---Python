{
 "cells": [
  {
   "cell_type": "code",
   "execution_count": 1,
   "metadata": {},
   "outputs": [],
   "source": [
    "import numpy as np\n",
    "import pandas as pd \n",
    "import matplotlib.pyplot as plt\n",
    "import plotnine as p9"
   ]
  },
  {
   "cell_type": "code",
   "execution_count": 2,
   "metadata": {},
   "outputs": [
    {
     "data": {
      "text/html": [
       "<div>\n",
       "<style scoped>\n",
       "    .dataframe tbody tr th:only-of-type {\n",
       "        vertical-align: middle;\n",
       "    }\n",
       "\n",
       "    .dataframe tbody tr th {\n",
       "        vertical-align: top;\n",
       "    }\n",
       "\n",
       "    .dataframe thead th {\n",
       "        text-align: right;\n",
       "    }\n",
       "</style>\n",
       "<table border=\"1\" class=\"dataframe\">\n",
       "  <thead>\n",
       "    <tr style=\"text-align: right;\">\n",
       "      <th></th>\n",
       "      <th>Unique Product Code</th>\n",
       "      <th>Product Name</th>\n",
       "      <th>Date</th>\n",
       "      <th>Location1 Sales</th>\n",
       "      <th>Location2 Sales</th>\n",
       "    </tr>\n",
       "  </thead>\n",
       "  <tbody>\n",
       "    <tr>\n",
       "      <th>0</th>\n",
       "      <td>3</td>\n",
       "      <td>productZ</td>\n",
       "      <td>Mar2019</td>\n",
       "      <td>79</td>\n",
       "      <td>98.0</td>\n",
       "    </tr>\n",
       "    <tr>\n",
       "      <th>1</th>\n",
       "      <td>2</td>\n",
       "      <td>productY</td>\n",
       "      <td>Mar2018</td>\n",
       "      <td>1</td>\n",
       "      <td>96.0</td>\n",
       "    </tr>\n",
       "    <tr>\n",
       "      <th>2</th>\n",
       "      <td>3</td>\n",
       "      <td>productZ</td>\n",
       "      <td>Apr2019</td>\n",
       "      <td>64</td>\n",
       "      <td>95.0</td>\n",
       "    </tr>\n",
       "    <tr>\n",
       "      <th>3</th>\n",
       "      <td>1</td>\n",
       "      <td>prouctX</td>\n",
       "      <td>Feb2018</td>\n",
       "      <td>15</td>\n",
       "      <td>95.0</td>\n",
       "    </tr>\n",
       "    <tr>\n",
       "      <th>4</th>\n",
       "      <td>3</td>\n",
       "      <td>productZ</td>\n",
       "      <td>Feb2018</td>\n",
       "      <td>6</td>\n",
       "      <td>93.0</td>\n",
       "    </tr>\n",
       "  </tbody>\n",
       "</table>\n",
       "</div>"
      ],
      "text/plain": [
       "   Unique Product Code Product Name     Date  Location1 Sales  Location2 Sales\n",
       "0                    3     productZ  Mar2019               79             98.0\n",
       "1                    2     productY  Mar2018                1             96.0\n",
       "2                    3     productZ  Apr2019               64             95.0\n",
       "3                    1      prouctX  Feb2018               15             95.0\n",
       "4                    3     productZ  Feb2018                6             93.0"
      ]
     },
     "execution_count": 2,
     "metadata": {},
     "output_type": "execute_result"
    }
   ],
   "source": [
    "# loading first data\n",
    "data = pd.read_excel(r'datawise_case_study_data.xlsx')\n",
    "data.head()"
   ]
  },
  {
   "cell_type": "code",
   "execution_count": 3,
   "metadata": {},
   "outputs": [
    {
     "name": "stdout",
     "output_type": "stream",
     "text": [
      "The shape of the data is:(27, 5)\n"
     ]
    }
   ],
   "source": [
    "# checking the shape\n",
    "print('The shape of the data is:{}'.format(data.shape))"
   ]
  },
  {
   "cell_type": "code",
   "execution_count": 4,
   "metadata": {},
   "outputs": [
    {
     "name": "stdout",
     "output_type": "stream",
     "text": [
      "<class 'pandas.core.frame.DataFrame'>\n",
      "RangeIndex: 27 entries, 0 to 26\n",
      "Data columns (total 5 columns):\n",
      " #   Column               Non-Null Count  Dtype  \n",
      "---  ------               --------------  -----  \n",
      " 0   Unique Product Code  27 non-null     int64  \n",
      " 1   Product Name         27 non-null     object \n",
      " 2   Date                 27 non-null     object \n",
      " 3   Location1 Sales      27 non-null     int64  \n",
      " 4   Location2 Sales      26 non-null     float64\n",
      "dtypes: float64(1), int64(2), object(2)\n",
      "memory usage: 1.2+ KB\n"
     ]
    }
   ],
   "source": [
    "# checking general information\n",
    "data.info()"
   ]
  },
  {
   "cell_type": "code",
   "execution_count": 5,
   "metadata": {},
   "outputs": [
    {
     "data": {
      "text/html": [
       "<div>\n",
       "<style scoped>\n",
       "    .dataframe tbody tr th:only-of-type {\n",
       "        vertical-align: middle;\n",
       "    }\n",
       "\n",
       "    .dataframe tbody tr th {\n",
       "        vertical-align: top;\n",
       "    }\n",
       "\n",
       "    .dataframe thead th {\n",
       "        text-align: right;\n",
       "    }\n",
       "</style>\n",
       "<table border=\"1\" class=\"dataframe\">\n",
       "  <thead>\n",
       "    <tr style=\"text-align: right;\">\n",
       "      <th></th>\n",
       "      <th>Location1 Sales</th>\n",
       "      <th>Location2 Sales</th>\n",
       "    </tr>\n",
       "  </thead>\n",
       "  <tbody>\n",
       "    <tr>\n",
       "      <th>count</th>\n",
       "      <td>27.000000</td>\n",
       "      <td>26.000000</td>\n",
       "    </tr>\n",
       "    <tr>\n",
       "      <th>mean</th>\n",
       "      <td>45.851852</td>\n",
       "      <td>58.038462</td>\n",
       "    </tr>\n",
       "    <tr>\n",
       "      <th>std</th>\n",
       "      <td>30.198960</td>\n",
       "      <td>29.681618</td>\n",
       "    </tr>\n",
       "    <tr>\n",
       "      <th>min</th>\n",
       "      <td>1.000000</td>\n",
       "      <td>9.000000</td>\n",
       "    </tr>\n",
       "    <tr>\n",
       "      <th>25%</th>\n",
       "      <td>21.000000</td>\n",
       "      <td>38.500000</td>\n",
       "    </tr>\n",
       "    <tr>\n",
       "      <th>50%</th>\n",
       "      <td>38.000000</td>\n",
       "      <td>58.500000</td>\n",
       "    </tr>\n",
       "    <tr>\n",
       "      <th>75%</th>\n",
       "      <td>76.500000</td>\n",
       "      <td>85.750000</td>\n",
       "    </tr>\n",
       "    <tr>\n",
       "      <th>max</th>\n",
       "      <td>88.000000</td>\n",
       "      <td>98.000000</td>\n",
       "    </tr>\n",
       "  </tbody>\n",
       "</table>\n",
       "</div>"
      ],
      "text/plain": [
       "       Location1 Sales  Location2 Sales\n",
       "count        27.000000        26.000000\n",
       "mean         45.851852        58.038462\n",
       "std          30.198960        29.681618\n",
       "min           1.000000         9.000000\n",
       "25%          21.000000        38.500000\n",
       "50%          38.000000        58.500000\n",
       "75%          76.500000        85.750000\n",
       "max          88.000000        98.000000"
      ]
     },
     "execution_count": 5,
     "metadata": {},
     "output_type": "execute_result"
    }
   ],
   "source": [
    "data[['Location1 Sales', 'Location2 Sales']].describe()"
   ]
  },
  {
   "cell_type": "code",
   "execution_count": 6,
   "metadata": {},
   "outputs": [
    {
     "data": {
      "text/plain": [
       "Unique Product Code    0\n",
       "Product Name           0\n",
       "Date                   0\n",
       "Location1 Sales        0\n",
       "Location2 Sales        1\n",
       "dtype: int64"
      ]
     },
     "execution_count": 6,
     "metadata": {},
     "output_type": "execute_result"
    }
   ],
   "source": [
    "# checking missing values\n",
    "data.isnull().sum()"
   ]
  },
  {
   "cell_type": "code",
   "execution_count": 7,
   "metadata": {},
   "outputs": [
    {
     "name": "stdout",
     "output_type": "stream",
     "text": [
      "The mean of Location2 Sales: 58.03846153846154\n"
     ]
    }
   ],
   "source": [
    "# checking mean of column\n",
    "print('The mean of Location2 Sales: {}'.format(data['Location2 Sales'].mean()))"
   ]
  },
  {
   "cell_type": "code",
   "execution_count": 8,
   "metadata": {},
   "outputs": [],
   "source": [
    "# filling missing value in\n",
    "data['Location2 Sales'] = data['Location2 Sales'].fillna(round(data['Location2 Sales'].mean()))"
   ]
  },
  {
   "cell_type": "code",
   "execution_count": 9,
   "metadata": {},
   "outputs": [
    {
     "data": {
      "text/plain": [
       "Unique Product Code     3\n",
       "Product Name            5\n",
       "Date                    8\n",
       "Location1 Sales        24\n",
       "Location2 Sales        23\n",
       "dtype: int64"
      ]
     },
     "execution_count": 9,
     "metadata": {},
     "output_type": "execute_result"
    }
   ],
   "source": [
    "# checking number of unique values\n",
    "data.nunique()"
   ]
  },
  {
   "cell_type": "code",
   "execution_count": 10,
   "metadata": {},
   "outputs": [],
   "source": [
    "# correcting the spelling\n",
    "data['Product Name'] = data['Product Name'].replace('prouctX', 'productX')\n",
    "data['Product Name'] = data['Product Name'].replace('prouct-X', 'productX')\n",
    "data['Product Name'] = data['Product Name'].replace('product.Y', 'productY')"
   ]
  },
  {
   "cell_type": "code",
   "execution_count": 11,
   "metadata": {},
   "outputs": [
    {
     "name": "stdout",
     "output_type": "stream",
     "text": [
      "Duplicate Rows except first occurrence based on all columns are :\n",
      "    Unique Product Code Product Name     Date  Location1 Sales  \\\n",
      "9                     1     productX  Jan2018               82   \n",
      "12                    3     productZ  Jan2018               35   \n",
      "\n",
      "    Location2 Sales  \n",
      "9              77.0  \n",
      "12             65.0  \n"
     ]
    }
   ],
   "source": [
    "# checking duplicate values\n",
    "duplicateCheck = data[data.duplicated()]\n",
    "print(\"Duplicate Rows except first occurrence based on all columns are :\")\n",
    "print(duplicateCheck)"
   ]
  },
  {
   "cell_type": "code",
   "execution_count": 12,
   "metadata": {},
   "outputs": [],
   "source": [
    "# dropping duplicates\n",
    "data = data.drop_duplicates()"
   ]
  },
  {
   "cell_type": "code",
   "execution_count": 13,
   "metadata": {},
   "outputs": [
    {
     "data": {
      "image/png": "[encoded data removed]",
      "text/plain": [
       "<Figure size 640x480 with 1 Axes>"
      ]
     },
     "metadata": {},
     "output_type": "display_data"
    },
    {
     "data": {
      "text/plain": [
       "<ggplot: (132404365294)>"
      ]
     },
     "execution_count": 13,
     "metadata": {},
     "output_type": "execute_result"
    }
   ],
   "source": [
    "# plotting number of each product frequency\n",
    "my_custom_theme = p9.theme(axis_text_x = p9.element_text(color=\"black\", size=10,\n",
    "                                                         angle=45, hjust=.5))\n",
    "(p9.ggplot(data=data,\n",
    "           mapping=p9.aes(x='Product Name'))\n",
    "    + p9.geom_bar()\n",
    " + my_custom_theme\n",
    ")"
   ]
  },
  {
   "cell_type": "code",
   "execution_count": 14,
   "metadata": {},
   "outputs": [
    {
     "data": {
      "text/html": [
       "<div>\n",
       "<style scoped>\n",
       "    .dataframe tbody tr th:only-of-type {\n",
       "        vertical-align: middle;\n",
       "    }\n",
       "\n",
       "    .dataframe tbody tr th {\n",
       "        vertical-align: top;\n",
       "    }\n",
       "\n",
       "    .dataframe thead th {\n",
       "        text-align: right;\n",
       "    }\n",
       "</style>\n",
       "<table border=\"1\" class=\"dataframe\">\n",
       "  <thead>\n",
       "    <tr style=\"text-align: right;\">\n",
       "      <th></th>\n",
       "      <th>Unique Product Code</th>\n",
       "      <th>Product Name</th>\n",
       "      <th>Date</th>\n",
       "      <th>Location1 Sales</th>\n",
       "      <th>Location2 Sales</th>\n",
       "    </tr>\n",
       "  </thead>\n",
       "  <tbody>\n",
       "    <tr>\n",
       "      <th>8</th>\n",
       "      <td>1</td>\n",
       "      <td>productX</td>\n",
       "      <td>2018-01-01</td>\n",
       "      <td>82</td>\n",
       "      <td>77.0</td>\n",
       "    </tr>\n",
       "    <tr>\n",
       "      <th>3</th>\n",
       "      <td>1</td>\n",
       "      <td>productX</td>\n",
       "      <td>2018-02-01</td>\n",
       "      <td>15</td>\n",
       "      <td>95.0</td>\n",
       "    </tr>\n",
       "    <tr>\n",
       "      <th>10</th>\n",
       "      <td>1</td>\n",
       "      <td>productX</td>\n",
       "      <td>2018-03-01</td>\n",
       "      <td>65</td>\n",
       "      <td>70.0</td>\n",
       "    </tr>\n",
       "    <tr>\n",
       "      <th>16</th>\n",
       "      <td>1</td>\n",
       "      <td>productX</td>\n",
       "      <td>2018-04-01</td>\n",
       "      <td>84</td>\n",
       "      <td>44.0</td>\n",
       "    </tr>\n",
       "    <tr>\n",
       "      <th>15</th>\n",
       "      <td>1</td>\n",
       "      <td>productX</td>\n",
       "      <td>2019-01-01</td>\n",
       "      <td>5</td>\n",
       "      <td>46.0</td>\n",
       "    </tr>\n",
       "  </tbody>\n",
       "</table>\n",
       "</div>"
      ],
      "text/plain": [
       "    Unique Product Code Product Name       Date  Location1 Sales  \\\n",
       "8                     1     productX 2018-01-01               82   \n",
       "3                     1     productX 2018-02-01               15   \n",
       "10                    1     productX 2018-03-01               65   \n",
       "16                    1     productX 2018-04-01               84   \n",
       "15                    1     productX 2019-01-01                5   \n",
       "\n",
       "    Location2 Sales  \n",
       "8              77.0  \n",
       "3              95.0  \n",
       "10             70.0  \n",
       "16             44.0  \n",
       "15             46.0  "
      ]
     },
     "execution_count": 14,
     "metadata": {},
     "output_type": "execute_result"
    }
   ],
   "source": [
    "# sorting according to the name and date\n",
    "data['Date'] =  pd.to_datetime(data['Date'])\n",
    "data = data.sort_values(by=['Product Name', 'Date'])\n",
    "data.head()"
   ]
  },
  {
   "cell_type": "code",
   "execution_count": 15,
   "metadata": {},
   "outputs": [],
   "source": [
    "data1 = pd.read_excel(r'changed_data.xlsx')"
   ]
  },
  {
   "cell_type": "code",
   "execution_count": 16,
   "metadata": {},
   "outputs": [
    {
     "name": "stdout",
     "output_type": "stream",
     "text": [
      "Duplicate Rows except first occurrence based on all columns are :\n",
      "    Unique Product Code Product Name       Date   Location  Sales  Month  \\\n",
      "2                     1     productX 2018-01-01  Location1     82      1   \n",
      "3                     1     productX 2018-01-01  Location2     77      1   \n",
      "32                    2     productY 2019-03-01  Location1     27      3   \n",
      "38                    3     productZ 2018-01-01  Location1     35      1   \n",
      "39                    3     productZ 2018-01-01  Location2     65      1   \n",
      "\n",
      "    Year   Newdate  \n",
      "2   2018  1.1.2018  \n",
      "3   2018  1.1.2018  \n",
      "32  2019  1.3.2019  \n",
      "38  2018  1.1.2018  \n",
      "39  2018  1.1.2018  \n"
     ]
    }
   ],
   "source": [
    "# checking duplicates\n",
    "duplicateCheck = data1[data1.duplicated()]\n",
    "print(\"Duplicate Rows except first occurrence based on all columns are :\")\n",
    "print(duplicateCheck)"
   ]
  },
  {
   "cell_type": "code",
   "execution_count": 17,
   "metadata": {},
   "outputs": [],
   "source": [
    "# dropping duplicates\n",
    "data1 = data1.drop_duplicates()"
   ]
  },
  {
   "cell_type": "code",
   "execution_count": 18,
   "metadata": {},
   "outputs": [],
   "source": [
    "# extracting day, month and year\n",
    "data1['Day'] = pd.DatetimeIndex(data1['Date']).day\n",
    "data1['Month'] = pd.DatetimeIndex(data1['Date']).month\n",
    "data1['Year'] = pd.DatetimeIndex(data1['Date']).year"
   ]
  },
  {
   "cell_type": "code",
   "execution_count": 19,
   "metadata": {},
   "outputs": [],
   "source": [
    "# creating new column\n",
    "cols=[\"Day\",\"Month\",\"Year\"]\n",
    "data1['Newdate'] = data1[cols].apply(lambda x: '.'.join(x.values.astype(str)), axis=\"columns\")"
   ]
  },
  {
   "cell_type": "code",
   "execution_count": 20,
   "metadata": {},
   "outputs": [
    {
     "data": {
      "text/html": [
       "<div>\n",
       "<style scoped>\n",
       "    .dataframe tbody tr th:only-of-type {\n",
       "        vertical-align: middle;\n",
       "    }\n",
       "\n",
       "    .dataframe tbody tr th {\n",
       "        vertical-align: top;\n",
       "    }\n",
       "\n",
       "    .dataframe thead th {\n",
       "        text-align: right;\n",
       "    }\n",
       "</style>\n",
       "<table border=\"1\" class=\"dataframe\">\n",
       "  <thead>\n",
       "    <tr style=\"text-align: right;\">\n",
       "      <th></th>\n",
       "      <th>Unique Product Code</th>\n",
       "      <th>Product Name</th>\n",
       "      <th>Date</th>\n",
       "      <th>Location</th>\n",
       "      <th>Sales</th>\n",
       "      <th>Month</th>\n",
       "      <th>Year</th>\n",
       "      <th>Newdate</th>\n",
       "    </tr>\n",
       "  </thead>\n",
       "  <tbody>\n",
       "    <tr>\n",
       "      <th>0</th>\n",
       "      <td>1</td>\n",
       "      <td>productX</td>\n",
       "      <td>2018-01-01</td>\n",
       "      <td>Location1</td>\n",
       "      <td>82</td>\n",
       "      <td>1</td>\n",
       "      <td>2018</td>\n",
       "      <td>1.1.2018</td>\n",
       "    </tr>\n",
       "    <tr>\n",
       "      <th>1</th>\n",
       "      <td>1</td>\n",
       "      <td>productX</td>\n",
       "      <td>2018-01-01</td>\n",
       "      <td>Location2</td>\n",
       "      <td>77</td>\n",
       "      <td>1</td>\n",
       "      <td>2018</td>\n",
       "      <td>1.1.2018</td>\n",
       "    </tr>\n",
       "    <tr>\n",
       "      <th>4</th>\n",
       "      <td>1</td>\n",
       "      <td>productX</td>\n",
       "      <td>2018-02-01</td>\n",
       "      <td>Location1</td>\n",
       "      <td>15</td>\n",
       "      <td>2</td>\n",
       "      <td>2018</td>\n",
       "      <td>1.2.2018</td>\n",
       "    </tr>\n",
       "    <tr>\n",
       "      <th>5</th>\n",
       "      <td>1</td>\n",
       "      <td>productX</td>\n",
       "      <td>2018-02-01</td>\n",
       "      <td>Location2</td>\n",
       "      <td>95</td>\n",
       "      <td>2</td>\n",
       "      <td>2018</td>\n",
       "      <td>1.2.2018</td>\n",
       "    </tr>\n",
       "    <tr>\n",
       "      <th>6</th>\n",
       "      <td>1</td>\n",
       "      <td>productX</td>\n",
       "      <td>2018-03-01</td>\n",
       "      <td>Location1</td>\n",
       "      <td>65</td>\n",
       "      <td>3</td>\n",
       "      <td>2018</td>\n",
       "      <td>1.3.2018</td>\n",
       "    </tr>\n",
       "  </tbody>\n",
       "</table>\n",
       "</div>"
      ],
      "text/plain": [
       "   Unique Product Code Product Name       Date   Location  Sales  Month  Year  \\\n",
       "0                    1     productX 2018-01-01  Location1     82      1  2018   \n",
       "1                    1     productX 2018-01-01  Location2     77      1  2018   \n",
       "4                    1     productX 2018-02-01  Location1     15      2  2018   \n",
       "5                    1     productX 2018-02-01  Location2     95      2  2018   \n",
       "6                    1     productX 2018-03-01  Location1     65      3  2018   \n",
       "\n",
       "    Newdate  \n",
       "0  1.1.2018  \n",
       "1  1.1.2018  \n",
       "4  1.2.2018  \n",
       "5  1.2.2018  \n",
       "6  1.3.2018  "
      ]
     },
     "execution_count": 20,
     "metadata": {},
     "output_type": "execute_result"
    }
   ],
   "source": [
    "del data1['Day']\n",
    "data1.head()"
   ]
  },
  {
   "cell_type": "code",
   "execution_count": 21,
   "metadata": {},
   "outputs": [],
   "source": [
    "data2 = pd.read_excel(r'datawise_case_study_additionaldata.xlsx')"
   ]
  },
  {
   "cell_type": "code",
   "execution_count": 22,
   "metadata": {},
   "outputs": [
    {
     "data": {
      "text/html": [
       "<div>\n",
       "<style scoped>\n",
       "    .dataframe tbody tr th:only-of-type {\n",
       "        vertical-align: middle;\n",
       "    }\n",
       "\n",
       "    .dataframe tbody tr th {\n",
       "        vertical-align: top;\n",
       "    }\n",
       "\n",
       "    .dataframe thead th {\n",
       "        text-align: right;\n",
       "    }\n",
       "</style>\n",
       "<table border=\"1\" class=\"dataframe\">\n",
       "  <thead>\n",
       "    <tr style=\"text-align: right;\">\n",
       "      <th></th>\n",
       "      <th>Location</th>\n",
       "      <th>Year</th>\n",
       "      <th>Population</th>\n",
       "    </tr>\n",
       "  </thead>\n",
       "  <tbody>\n",
       "    <tr>\n",
       "      <th>0</th>\n",
       "      <td>Location1</td>\n",
       "      <td>2018</td>\n",
       "      <td>5109</td>\n",
       "    </tr>\n",
       "    <tr>\n",
       "      <th>1</th>\n",
       "      <td>Location1</td>\n",
       "      <td>2019</td>\n",
       "      <td>3528</td>\n",
       "    </tr>\n",
       "    <tr>\n",
       "      <th>2</th>\n",
       "      <td>Location2</td>\n",
       "      <td>2018</td>\n",
       "      <td>9806</td>\n",
       "    </tr>\n",
       "    <tr>\n",
       "      <th>3</th>\n",
       "      <td>Location2</td>\n",
       "      <td>2019</td>\n",
       "      <td>1740</td>\n",
       "    </tr>\n",
       "  </tbody>\n",
       "</table>\n",
       "</div>"
      ],
      "text/plain": [
       "    Location  Year  Population\n",
       "0  Location1  2018        5109\n",
       "1  Location1  2019        3528\n",
       "2  Location2  2018        9806\n",
       "3  Location2  2019        1740"
      ]
     },
     "execution_count": 22,
     "metadata": {},
     "output_type": "execute_result"
    }
   ],
   "source": [
    "data2"
   ]
  },
  {
   "cell_type": "code",
   "execution_count": 23,
   "metadata": {},
   "outputs": [
    {
     "data": {
      "text/plain": [
       "(4, 3)"
      ]
     },
     "execution_count": 23,
     "metadata": {},
     "output_type": "execute_result"
    }
   ],
   "source": [
    "data2.shape"
   ]
  },
  {
   "cell_type": "code",
   "execution_count": 24,
   "metadata": {},
   "outputs": [
    {
     "name": "stdout",
     "output_type": "stream",
     "text": [
      "<class 'pandas.core.frame.DataFrame'>\n",
      "RangeIndex: 4 entries, 0 to 3\n",
      "Data columns (total 3 columns):\n",
      " #   Column      Non-Null Count  Dtype \n",
      "---  ------      --------------  ----- \n",
      " 0   Location    4 non-null      object\n",
      " 1   Year        4 non-null      int64 \n",
      " 2   Population  4 non-null      int64 \n",
      "dtypes: int64(2), object(1)\n",
      "memory usage: 224.0+ bytes\n"
     ]
    }
   ],
   "source": [
    "data2.info()"
   ]
  },
  {
   "cell_type": "code",
   "execution_count": 25,
   "metadata": {},
   "outputs": [
    {
     "data": {
      "text/html": [
       "<div>\n",
       "<style scoped>\n",
       "    .dataframe tbody tr th:only-of-type {\n",
       "        vertical-align: middle;\n",
       "    }\n",
       "\n",
       "    .dataframe tbody tr th {\n",
       "        vertical-align: top;\n",
       "    }\n",
       "\n",
       "    .dataframe thead th {\n",
       "        text-align: right;\n",
       "    }\n",
       "</style>\n",
       "<table border=\"1\" class=\"dataframe\">\n",
       "  <thead>\n",
       "    <tr style=\"text-align: right;\">\n",
       "      <th></th>\n",
       "      <th>Unique Product Code</th>\n",
       "      <th>Product Name</th>\n",
       "      <th>Date</th>\n",
       "      <th>Location</th>\n",
       "      <th>Sales</th>\n",
       "      <th>Month</th>\n",
       "      <th>Year</th>\n",
       "      <th>Newdate</th>\n",
       "      <th>Population</th>\n",
       "    </tr>\n",
       "  </thead>\n",
       "  <tbody>\n",
       "    <tr>\n",
       "      <th>0</th>\n",
       "      <td>1</td>\n",
       "      <td>productX</td>\n",
       "      <td>2018-01-01</td>\n",
       "      <td>Location1</td>\n",
       "      <td>82</td>\n",
       "      <td>1</td>\n",
       "      <td>2018</td>\n",
       "      <td>1.1.2018</td>\n",
       "      <td>5109</td>\n",
       "    </tr>\n",
       "    <tr>\n",
       "      <th>1</th>\n",
       "      <td>1</td>\n",
       "      <td>productX</td>\n",
       "      <td>2018-02-01</td>\n",
       "      <td>Location1</td>\n",
       "      <td>15</td>\n",
       "      <td>2</td>\n",
       "      <td>2018</td>\n",
       "      <td>1.2.2018</td>\n",
       "      <td>5109</td>\n",
       "    </tr>\n",
       "    <tr>\n",
       "      <th>2</th>\n",
       "      <td>1</td>\n",
       "      <td>productX</td>\n",
       "      <td>2018-03-01</td>\n",
       "      <td>Location1</td>\n",
       "      <td>65</td>\n",
       "      <td>3</td>\n",
       "      <td>2018</td>\n",
       "      <td>1.3.2018</td>\n",
       "      <td>5109</td>\n",
       "    </tr>\n",
       "    <tr>\n",
       "      <th>3</th>\n",
       "      <td>1</td>\n",
       "      <td>productX</td>\n",
       "      <td>2018-04-01</td>\n",
       "      <td>Location1</td>\n",
       "      <td>84</td>\n",
       "      <td>4</td>\n",
       "      <td>2018</td>\n",
       "      <td>1.4.2018</td>\n",
       "      <td>5109</td>\n",
       "    </tr>\n",
       "    <tr>\n",
       "      <th>4</th>\n",
       "      <td>2</td>\n",
       "      <td>productY</td>\n",
       "      <td>2018-01-01</td>\n",
       "      <td>Location1</td>\n",
       "      <td>38</td>\n",
       "      <td>1</td>\n",
       "      <td>2018</td>\n",
       "      <td>1.1.2018</td>\n",
       "      <td>5109</td>\n",
       "    </tr>\n",
       "  </tbody>\n",
       "</table>\n",
       "</div>"
      ],
      "text/plain": [
       "   Unique Product Code Product Name       Date   Location  Sales  Month  Year  \\\n",
       "0                    1     productX 2018-01-01  Location1     82      1  2018   \n",
       "1                    1     productX 2018-02-01  Location1     15      2  2018   \n",
       "2                    1     productX 2018-03-01  Location1     65      3  2018   \n",
       "3                    1     productX 2018-04-01  Location1     84      4  2018   \n",
       "4                    2     productY 2018-01-01  Location1     38      1  2018   \n",
       "\n",
       "    Newdate  Population  \n",
       "0  1.1.2018        5109  \n",
       "1  1.2.2018        5109  \n",
       "2  1.3.2018        5109  \n",
       "3  1.4.2018        5109  \n",
       "4  1.1.2018        5109  "
      ]
     },
     "execution_count": 25,
     "metadata": {},
     "output_type": "execute_result"
    }
   ],
   "source": [
    "# merging two datasets\n",
    "data1=data1.merge(data2)\n",
    "data1.head()"
   ]
  },
  {
   "cell_type": "code",
   "execution_count": 27,
   "metadata": {},
   "outputs": [],
   "source": [
    "data1.to_excel('new_data.xlsx')"
   ]
  },
  {
   "cell_type": "code",
   "execution_count": 28,
   "metadata": {},
   "outputs": [
    {
     "data": {
      "text/plain": [
       "<matplotlib.legend.Legend at 0x1ed40313e50>"
      ]
     },
     "execution_count": 28,
     "metadata": {},
     "output_type": "execute_result"
    },
    {
     "data": {
      "image/png": "[encoded data removed]",
      "text/plain": [
       "<Figure size 432x288 with 1 Axes>"
      ]
     },
     "metadata": {
      "needs_background": "light"
     },
     "output_type": "display_data"
    }
   ],
   "source": [
    "# uploading average dataset and then plotting line graph by locations\n",
    "data3 = pd.read_excel(r'ave2018.xlsx')\n",
    "\n",
    "x_coord = data3['Month'].head(4)\n",
    "y1_coord = data3['Average of sales'].head(4)\n",
    "y2_coord = data3['Average of sales'].tail(4)\n",
    "\n",
    "plt.plot(x_coord, y1_coord) # plot first line\n",
    "plt.plot(x_coord, y2_coord) # plot second line\n",
    "\n",
    "plt.xlabel('Month')\n",
    "plt.ylabel('Average of Sales')\n",
    "plt.title('Monthly average of sales')\n",
    "plt.legend(['Location1','Location2'])"
   ]
  },
  {
   "cell_type": "code",
   "execution_count": 29,
   "metadata": {},
   "outputs": [
    {
     "data": {
      "text/plain": [
       "Text(0.5, 1.0, 'Percentage of Sales in 2018')"
      ]
     },
     "execution_count": 29,
     "metadata": {},
     "output_type": "execute_result"
    },
    {
     "data": {
      "image/png": "[encoded data removed]",
      "text/plain": [
       "<Figure size 432x288 with 1 Axes>"
      ]
     },
     "metadata": {
      "needs_background": "light"
     },
     "output_type": "display_data"
    }
   ],
   "source": [
    "# uploading average dataset and then plotting bar chart\n",
    "data4 = pd.read_excel(r'year2018.xlsx')\n",
    "\n",
    "x_coord = data4['Month']\n",
    "y_coord = data4.groupby(['Product Name'])['Sales'].sum()/data4['Sales'].sum() * 100\n",
    "\n",
    "y_coord.plot(kind='bar', color = 'darkorange',rot=45)\n",
    "plt.ylabel('Percentage')\n",
    "plt.title('Percentage of Sales in 2018')"
   ]
  },
  {
   "cell_type": "code",
   "execution_count": 30,
   "metadata": {},
   "outputs": [
    {
     "data": {
      "text/plain": [
       "Text(0.5, 1.0, 'Percentage of Sales in 2019')"
      ]
     },
     "execution_count": 30,
     "metadata": {},
     "output_type": "execute_result"
    },
    {
     "data": {
      "image/png": "[encoded data removed]",
      "text/plain": [
       "<Figure size 432x288 with 1 Axes>"
      ]
     },
     "metadata": {
      "needs_background": "light"
     },
     "output_type": "display_data"
    }
   ],
   "source": [
    "# uploading average dataset and then plotting bar chart\n",
    "data5 = pd.read_excel(r'year2019.xlsx')\n",
    "\n",
    "x_coord = data5['Month']\n",
    "y_coord = data5.groupby(['Product Name'])['Sales'].sum()/data5['Sales'].sum() *100\n",
    "\n",
    "y_coord.plot(kind='bar', color = 'darkorange', rot=45)\n",
    "plt.ylabel('Number of Products')\n",
    "plt.ylabel('Percentage')\n",
    "plt.title('Percentage of Sales in 2019')"
   ]
  },
  {
   "cell_type": "code",
   "execution_count": 31,
   "metadata": {},
   "outputs": [
    {
     "data": {
      "text/plain": [
       "Text(0.5, 1.0, 'Number of Products by Location')"
      ]
     },
     "execution_count": 31,
     "metadata": {},
     "output_type": "execute_result"
    },
    {
     "data": {
      "image/png": "[encoded data removed]",
      "text/plain": [
       "<Figure size 432x288 with 1 Axes>"
      ]
     },
     "metadata": {
      "needs_background": "light"
     },
     "output_type": "display_data"
    }
   ],
   "source": [
    "# grouping the date by name and location and plotting the total number of sales\n",
    "y4=data1.groupby(['Product Name','Location'])['Sales'].sum()\n",
    "y4.plot(kind='barh', color=['salmon', 'sandybrown'])\n",
    "plt.xlabel('Number of Sales')\n",
    "plt.title('Number of Products by Location')"
   ]
  },
  {
   "cell_type": "code",
   "execution_count": null,
   "metadata": {},
   "outputs": [],
   "source": []
  }
 ],
 "metadata": {
  "kernelspec": {
   "display_name": "Python 3",
   "language": "python",
   "name": "python3"
  },
  "language_info": {
   "codemirror_mode": {
    "name": "ipython",
    "version": 3
   },
   "file_extension": ".py",
   "mimetype": "text/x-python",
   "name": "python",
   "nbconvert_exporter": "python",
   "pygments_lexer": "ipython3",
   "version": "3.8.5"
  }
 },
 "nbformat": 4,
 "nbformat_minor": 4
}
