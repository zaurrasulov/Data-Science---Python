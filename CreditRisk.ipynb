{
 "cells": [
  {
   "cell_type": "code",
   "execution_count": 1,
   "metadata": {},
   "outputs": [],
   "source": [
    "import numpy as np\n",
    "import pandas as pd\n",
    "import matplotlib as mpl\n",
    "import matplotlib.pyplot as plt\n",
    "import seaborn as sns\n",
    "\n",
    "from sklearn.model_selection import train_test_split\n",
    "from sklearn.preprocessing import LabelEncoder\n",
    "\n",
    "from sklearn.linear_model import LinearRegression\n",
    "from sklearn.preprocessing import StandardScaler\n",
    "from sklearn.linear_model import LogisticRegression\n",
    "from sklearn.ensemble import RandomForestClassifier\n",
    "import xgboost as xgb\n",
    "from xgboost import XGBClassifier\n",
    "from sklearn.neighbors import KNeighborsClassifier\n",
    "from sklearn.metrics import classification_report\n",
    "from sklearn.tree import DecisionTreeClassifier\n",
    "from sklearn.ensemble import AdaBoostClassifier\n",
    "\n",
    "\n",
    "from sklearn import metrics\n",
    "from sklearn.metrics import roc_auc_score\n",
    "from sklearn.metrics import confusion_matrix"
   ]
  },
  {
   "cell_type": "code",
   "execution_count": 2,
   "metadata": {},
   "outputs": [],
   "source": [
    "# write data\n",
    "data = pd.read_csv('Credit_risk.csv')"
   ]
  },
  {
   "cell_type": "code",
   "execution_count": 3,
   "metadata": {},
   "outputs": [
    {
     "name": "stdout",
     "output_type": "stream",
     "text": [
      "<class 'pandas.core.frame.DataFrame'>\n",
      "RangeIndex: 614 entries, 0 to 613\n",
      "Data columns (total 13 columns):\n",
      " #   Column             Non-Null Count  Dtype  \n",
      "---  ------             --------------  -----  \n",
      " 0   Loan_ID            614 non-null    object \n",
      " 1   Gender             601 non-null    object \n",
      " 2   Married            611 non-null    object \n",
      " 3   Dependents         599 non-null    float64\n",
      " 4   Education          614 non-null    object \n",
      " 5   Self_Employed      582 non-null    object \n",
      " 6   ApplicantIncome    614 non-null    int64  \n",
      " 7   CoapplicantIncome  614 non-null    float64\n",
      " 8   LoanAmount         592 non-null    float64\n",
      " 9   Loan_Amount_Term   600 non-null    float64\n",
      " 10  Credit_History     564 non-null    float64\n",
      " 11  Property_Area      614 non-null    object \n",
      " 12  Loan_Status        614 non-null    object \n",
      "dtypes: float64(5), int64(1), object(7)\n",
      "memory usage: 62.5+ KB\n"
     ]
    }
   ],
   "source": [
    "data.info()"
   ]
  },
  {
   "cell_type": "code",
   "execution_count": 4,
   "metadata": {},
   "outputs": [
    {
     "data": {
      "text/plain": [
       "Loan_ID               0\n",
       "Gender               13\n",
       "Married               3\n",
       "Dependents           15\n",
       "Education             0\n",
       "Self_Employed        32\n",
       "ApplicantIncome       0\n",
       "CoapplicantIncome     0\n",
       "LoanAmount           22\n",
       "Loan_Amount_Term     14\n",
       "Credit_History       50\n",
       "Property_Area         0\n",
       "Loan_Status           0\n",
       "dtype: int64"
      ]
     },
     "execution_count": 4,
     "metadata": {},
     "output_type": "execute_result"
    }
   ],
   "source": [
    "# checking the missing values\n",
    "data.isnull().sum()"
   ]
  },
  {
   "cell_type": "code",
   "execution_count": 5,
   "metadata": {},
   "outputs": [
    {
     "name": "stdout",
     "output_type": "stream",
     "text": [
      "<bound method Series.mode of 0        Male\n",
      "1        Male\n",
      "2        Male\n",
      "3        Male\n",
      "4        Male\n",
      "        ...  \n",
      "609    Female\n",
      "610      Male\n",
      "611      Male\n",
      "612      Male\n",
      "613    Female\n",
      "Name: Gender, Length: 614, dtype: object>\n",
      "<bound method Series.mode of 0       No\n",
      "1      Yes\n",
      "2      Yes\n",
      "3      Yes\n",
      "4       No\n",
      "      ... \n",
      "609     No\n",
      "610    Yes\n",
      "611    Yes\n",
      "612    Yes\n",
      "613     No\n",
      "Name: Married, Length: 614, dtype: object>\n",
      "<bound method Series.mode of 0       No\n",
      "1       No\n",
      "2      Yes\n",
      "3       No\n",
      "4       No\n",
      "      ... \n",
      "609     No\n",
      "610     No\n",
      "611     No\n",
      "612     No\n",
      "613    Yes\n",
      "Name: Self_Employed, Length: 614, dtype: object>\n"
     ]
    }
   ],
   "source": [
    "# checking the modes for later missing value imputation\n",
    "print(data.Gender.mode)\n",
    "print(data.Married.mode)\n",
    "print(data.Self_Employed.mode)"
   ]
  },
  {
   "cell_type": "code",
   "execution_count": 6,
   "metadata": {},
   "outputs": [],
   "source": [
    "# deleting the column, because it gives no information\n",
    "del data['Loan_ID']\n",
    "\n",
    "#impute numerical missing values\n",
    "def impute_na(df, variable, mean_median):\n",
    "\n",
    "    return df[variable].fillna(mean_median)\n",
    "mean = data.LoanAmount.mean()\n",
    "mean1 = data.Loan_Amount_Term.mean()\n",
    "mean2 = data.Credit_History.mean()\n",
    "\n",
    "data['LoanAmount'] = impute_na(data, 'LoanAmount', mean)\n",
    "data['Loan_Amount_Term'] = impute_na(data, 'Loan_Amount_Term', mean1)\n",
    "data['Credit_History'] = impute_na(data, 'Credit_History', mean2)\n",
    "data['Dependents'] = data['Dependents'].fillna(0)"
   ]
  },
  {
   "cell_type": "code",
   "execution_count": 7,
   "metadata": {},
   "outputs": [],
   "source": [
    "# impute categorical missing values\n",
    "data['Gender'] = data['Gender'].fillna('Male')\n",
    "data['Married'] = data['Married'].fillna('Yes')\n",
    "data['Self_Employed'] = data['Self_Employed'].fillna('No')"
   ]
  },
  {
   "cell_type": "code",
   "execution_count": 8,
   "metadata": {},
   "outputs": [
    {
     "data": {
      "text/plain": [
       "Text(0.5, 1.0, 'Gender')"
      ]
     },
     "execution_count": 8,
     "metadata": {},
     "output_type": "execute_result"
    },
    {
     "data": {
      "image/png": "[encoded data removed]",
      "text/plain": [
       "<Figure size 1008x864 with 1 Axes>"
      ]
     },
     "metadata": {
      "needs_background": "light"
     },
     "output_type": "display_data"
    }
   ],
   "source": [
    "# plotting graph according to gender\n",
    "plt.figure(figsize = (14,12))\n",
    "plt.subplot(221)\n",
    "g = sns.countplot(x=\"Gender\", data=data)\n",
    "g.set_xticklabels(g.get_xticklabels(),rotation=45)\n",
    "g.set_xlabel(\"\", fontsize=12)\n",
    "g.set_ylabel(\"Count\", fontsize=12)\n",
    "g.set_title(\"Gender\", fontsize=20)"
   ]
  },
  {
   "cell_type": "code",
   "execution_count": 9,
   "metadata": {},
   "outputs": [
    {
     "data": {
      "text/plain": [
       "Text(0.5, 1.0, 'Education')"
      ]
     },
     "execution_count": 9,
     "metadata": {},
     "output_type": "execute_result"
    },
    {
     "data": {
      "image/png": "[encoded data removed]",
      "text/plain": [
       "<Figure size 1008x864 with 1 Axes>"
      ]
     },
     "metadata": {
      "needs_background": "light"
     },
     "output_type": "display_data"
    }
   ],
   "source": [
    "# plotting graph according to education\n",
    "plt.figure(figsize = (14,12))\n",
    "plt.subplot(221)\n",
    "g = sns.countplot(x=\"Education\", data=data)\n",
    "g.set_xticklabels(g.get_xticklabels(),rotation=45)\n",
    "g.set_xlabel(\"\", fontsize=12)\n",
    "g.set_ylabel(\"Count\", fontsize=12)\n",
    "g.set_title(\"Education\", fontsize=20)"
   ]
  },
  {
   "cell_type": "markdown",
   "metadata": {},
   "source": [
    "It can be seen from the above graphs that the data is imbalanced. "
   ]
  },
  {
   "cell_type": "code",
   "execution_count": 10,
   "metadata": {},
   "outputs": [
    {
     "data": {
      "text/html": [
       "<div>\n",
       "<style scoped>\n",
       "    .dataframe tbody tr th:only-of-type {\n",
       "        vertical-align: middle;\n",
       "    }\n",
       "\n",
       "    .dataframe tbody tr th {\n",
       "        vertical-align: top;\n",
       "    }\n",
       "\n",
       "    .dataframe thead th {\n",
       "        text-align: right;\n",
       "    }\n",
       "</style>\n",
       "<table border=\"1\" class=\"dataframe\">\n",
       "  <thead>\n",
       "    <tr style=\"text-align: right;\">\n",
       "      <th></th>\n",
       "      <th>Dependents</th>\n",
       "      <th>ApplicantIncome</th>\n",
       "      <th>CoapplicantIncome</th>\n",
       "      <th>LoanAmount</th>\n",
       "      <th>Loan_Amount_Term</th>\n",
       "      <th>Credit_History</th>\n",
       "    </tr>\n",
       "  </thead>\n",
       "  <tbody>\n",
       "    <tr>\n",
       "      <th>Dependents</th>\n",
       "      <td>1.000000</td>\n",
       "      <td>0.118202</td>\n",
       "      <td>0.030430</td>\n",
       "      <td>0.163106</td>\n",
       "      <td>-0.101054</td>\n",
       "      <td>-0.037392</td>\n",
       "    </tr>\n",
       "    <tr>\n",
       "      <th>ApplicantIncome</th>\n",
       "      <td>0.118202</td>\n",
       "      <td>1.000000</td>\n",
       "      <td>-0.116605</td>\n",
       "      <td>0.565620</td>\n",
       "      <td>-0.045242</td>\n",
       "      <td>-0.014477</td>\n",
       "    </tr>\n",
       "    <tr>\n",
       "      <th>CoapplicantIncome</th>\n",
       "      <td>0.030430</td>\n",
       "      <td>-0.116605</td>\n",
       "      <td>1.000000</td>\n",
       "      <td>0.187828</td>\n",
       "      <td>-0.059675</td>\n",
       "      <td>-0.001665</td>\n",
       "    </tr>\n",
       "    <tr>\n",
       "      <th>LoanAmount</th>\n",
       "      <td>0.163106</td>\n",
       "      <td>0.565620</td>\n",
       "      <td>0.187828</td>\n",
       "      <td>1.000000</td>\n",
       "      <td>0.038801</td>\n",
       "      <td>-0.007738</td>\n",
       "    </tr>\n",
       "    <tr>\n",
       "      <th>Loan_Amount_Term</th>\n",
       "      <td>-0.101054</td>\n",
       "      <td>-0.045242</td>\n",
       "      <td>-0.059675</td>\n",
       "      <td>0.038801</td>\n",
       "      <td>1.000000</td>\n",
       "      <td>0.001395</td>\n",
       "    </tr>\n",
       "    <tr>\n",
       "      <th>Credit_History</th>\n",
       "      <td>-0.037392</td>\n",
       "      <td>-0.014477</td>\n",
       "      <td>-0.001665</td>\n",
       "      <td>-0.007738</td>\n",
       "      <td>0.001395</td>\n",
       "      <td>1.000000</td>\n",
       "    </tr>\n",
       "  </tbody>\n",
       "</table>\n",
       "</div>"
      ],
      "text/plain": [
       "                   Dependents  ApplicantIncome  CoapplicantIncome  LoanAmount  \\\n",
       "Dependents           1.000000         0.118202           0.030430    0.163106   \n",
       "ApplicantIncome      0.118202         1.000000          -0.116605    0.565620   \n",
       "CoapplicantIncome    0.030430        -0.116605           1.000000    0.187828   \n",
       "LoanAmount           0.163106         0.565620           0.187828    1.000000   \n",
       "Loan_Amount_Term    -0.101054        -0.045242          -0.059675    0.038801   \n",
       "Credit_History      -0.037392        -0.014477          -0.001665   -0.007738   \n",
       "\n",
       "                   Loan_Amount_Term  Credit_History  \n",
       "Dependents                -0.101054       -0.037392  \n",
       "ApplicantIncome           -0.045242       -0.014477  \n",
       "CoapplicantIncome         -0.059675       -0.001665  \n",
       "LoanAmount                 0.038801       -0.007738  \n",
       "Loan_Amount_Term           1.000000        0.001395  \n",
       "Credit_History             0.001395        1.000000  "
      ]
     },
     "execution_count": 10,
     "metadata": {},
     "output_type": "execute_result"
    }
   ],
   "source": [
    "# checking the correlation\n",
    "data.corr()"
   ]
  },
  {
   "cell_type": "code",
   "execution_count": 11,
   "metadata": {},
   "outputs": [
    {
     "data": {
      "text/html": [
       "<div>\n",
       "<style scoped>\n",
       "    .dataframe tbody tr th:only-of-type {\n",
       "        vertical-align: middle;\n",
       "    }\n",
       "\n",
       "    .dataframe tbody tr th {\n",
       "        vertical-align: top;\n",
       "    }\n",
       "\n",
       "    .dataframe thead th {\n",
       "        text-align: right;\n",
       "    }\n",
       "</style>\n",
       "<table border=\"1\" class=\"dataframe\">\n",
       "  <thead>\n",
       "    <tr style=\"text-align: right;\">\n",
       "      <th></th>\n",
       "      <th>ApplicantIncome</th>\n",
       "      <th>CoapplicantIncome</th>\n",
       "      <th>LoanAmount</th>\n",
       "      <th>Loan_Amount_Term</th>\n",
       "    </tr>\n",
       "  </thead>\n",
       "  <tbody>\n",
       "    <tr>\n",
       "      <th>count</th>\n",
       "      <td>614.000000</td>\n",
       "      <td>614.000000</td>\n",
       "      <td>614.000000</td>\n",
       "      <td>614.000000</td>\n",
       "    </tr>\n",
       "    <tr>\n",
       "      <th>mean</th>\n",
       "      <td>5403.459283</td>\n",
       "      <td>1621.245798</td>\n",
       "      <td>146.412162</td>\n",
       "      <td>342.000000</td>\n",
       "    </tr>\n",
       "    <tr>\n",
       "      <th>std</th>\n",
       "      <td>6109.041673</td>\n",
       "      <td>2926.248369</td>\n",
       "      <td>84.037468</td>\n",
       "      <td>64.372489</td>\n",
       "    </tr>\n",
       "    <tr>\n",
       "      <th>min</th>\n",
       "      <td>150.000000</td>\n",
       "      <td>0.000000</td>\n",
       "      <td>9.000000</td>\n",
       "      <td>12.000000</td>\n",
       "    </tr>\n",
       "    <tr>\n",
       "      <th>25%</th>\n",
       "      <td>2877.500000</td>\n",
       "      <td>0.000000</td>\n",
       "      <td>100.250000</td>\n",
       "      <td>360.000000</td>\n",
       "    </tr>\n",
       "    <tr>\n",
       "      <th>50%</th>\n",
       "      <td>3812.500000</td>\n",
       "      <td>1188.500000</td>\n",
       "      <td>129.000000</td>\n",
       "      <td>360.000000</td>\n",
       "    </tr>\n",
       "    <tr>\n",
       "      <th>75%</th>\n",
       "      <td>5795.000000</td>\n",
       "      <td>2297.250000</td>\n",
       "      <td>164.750000</td>\n",
       "      <td>360.000000</td>\n",
       "    </tr>\n",
       "    <tr>\n",
       "      <th>max</th>\n",
       "      <td>81000.000000</td>\n",
       "      <td>41667.000000</td>\n",
       "      <td>700.000000</td>\n",
       "      <td>480.000000</td>\n",
       "    </tr>\n",
       "  </tbody>\n",
       "</table>\n",
       "</div>"
      ],
      "text/plain": [
       "       ApplicantIncome  CoapplicantIncome  LoanAmount  Loan_Amount_Term\n",
       "count       614.000000         614.000000  614.000000        614.000000\n",
       "mean       5403.459283        1621.245798  146.412162        342.000000\n",
       "std        6109.041673        2926.248369   84.037468         64.372489\n",
       "min         150.000000           0.000000    9.000000         12.000000\n",
       "25%        2877.500000           0.000000  100.250000        360.000000\n",
       "50%        3812.500000        1188.500000  129.000000        360.000000\n",
       "75%        5795.000000        2297.250000  164.750000        360.000000\n",
       "max       81000.000000       41667.000000  700.000000        480.000000"
      ]
     },
     "execution_count": 11,
     "metadata": {},
     "output_type": "execute_result"
    }
   ],
   "source": [
    "# choosing only numerical columns\n",
    "numeric_data = data[['ApplicantIncome', 'CoapplicantIncome','LoanAmount', 'Loan_Amount_Term']]\n",
    "numeric_data.describe()"
   ]
  },
  {
   "cell_type": "markdown",
   "metadata": {},
   "source": [
    "General information about the numerical data can be seen from above."
   ]
  },
  {
   "cell_type": "code",
   "execution_count": 12,
   "metadata": {},
   "outputs": [],
   "source": [
    "# encoding categorical data\n",
    "labelencoder = LabelEncoder()\n",
    "data['Property_Area'] = labelencoder.fit_transform(data['Property_Area'])\n",
    "data['Gender'] = pd.get_dummies(data['Gender'])\n",
    "data['Married'] = pd.get_dummies(data['Married'])\n",
    "data['Education'] = pd.get_dummies(data['Education'])\n",
    "data['Self_Employed'] = pd.get_dummies(data['Self_Employed'])\n",
    "data['Loan_Status'] = pd.get_dummies(data['Loan_Status'])"
   ]
  },
  {
   "cell_type": "code",
   "execution_count": 13,
   "metadata": {},
   "outputs": [
    {
     "data": {
      "text/plain": [
       "((429, 11), (429,), (185, 11), (185,))"
      ]
     },
     "execution_count": 13,
     "metadata": {},
     "output_type": "execute_result"
    }
   ],
   "source": [
    "#splitting to train and test sets\n",
    "X_train, X_test, y_train, y_test = train_test_split(\n",
    "    data.drop(labels=['Loan_Status'], axis=1),\n",
    "    data['Loan_Status'],\n",
    "    test_size=0.3,\n",
    "    random_state=0)\n",
    "X_train.shape, y_train.shape, X_test.shape, y_test.shape"
   ]
  },
  {
   "cell_type": "code",
   "execution_count": 14,
   "metadata": {},
   "outputs": [
    {
     "name": "stdout",
     "output_type": "stream",
     "text": [
      "     Actual  Predicted\n",
      "454       0   0.241490\n",
      "52        1   0.238525\n",
      "536       0   0.227912\n",
      "469       1   0.167435\n",
      "55        0   0.127771\n",
      "62        1   1.048303\n",
      "539       0   0.129294\n",
      "432       0   0.285617\n",
      "367       1   0.966039\n",
      "482       0   0.206478\n",
      "Mean Absolute Error: 0.3024671498786509\n",
      "Mean Squared Error: 0.1438328519554043\n",
      "Root Mean Squared Error: 0.37925301838667586\n"
     ]
    }
   ],
   "source": [
    "#linear regression\n",
    "regressor = LinearRegression()\n",
    "regressor.fit(X_train, y_train)\n",
    "y_pred = regressor.predict(X_test)\n",
    "df = pd.DataFrame({'Actual': y_test, 'Predicted': y_pred})\n",
    "print(df.head(10))\n",
    "print('Mean Absolute Error:', metrics.mean_absolute_error(y_test, y_pred))\n",
    "print('Mean Squared Error:', metrics.mean_squared_error(y_test, y_pred))\n",
    "print('Root Mean Squared Error:', np.sqrt(metrics.mean_squared_error(y_test, y_pred)))"
   ]
  },
  {
   "cell_type": "code",
   "execution_count": 15,
   "metadata": {},
   "outputs": [
    {
     "name": "stdout",
     "output_type": "stream",
     "text": [
      "Train:\n",
      "Random Forest: 0.9091558313632782\n",
      "Test:\n",
      "Random Forest: 0.7800702370500439\n",
      "              precision    recall  f1-score   support\n",
      "\n",
      "           0       0.81      0.99      0.89       134\n",
      "           1       0.91      0.41      0.57        51\n",
      "\n",
      "    accuracy                           0.83       185\n",
      "   macro avg       0.86      0.70      0.73       185\n",
      "weighted avg       0.84      0.83      0.80       185\n",
      "\n"
     ]
    }
   ],
   "source": [
    "#Random Forest\n",
    "def ranFor(X_train, X_test, y_train, y_test):\n",
    "    rf = RandomForestClassifier(n_estimators=200, random_state=39, max_depth=4)\n",
    "    rf.fit(X_train, y_train)\n",
    "    print('Train:')\n",
    "    pred = rf.predict_proba(X_train)\n",
    "    print('Random Forest: {}'.format(roc_auc_score(y_train, pred[:,1])))\n",
    "    print('Test:')\n",
    "    pred = rf.predict_proba(X_test)\n",
    "    print('Random Forest: {}'.format(roc_auc_score(y_test, pred[:,1])))\n",
    "    print(classification_report(y_test, rf.predict(X_test)))\n",
    "ranFor(X_train,X_test, y_train, y_test)"
   ]
  },
  {
   "cell_type": "code",
   "execution_count": 16,
   "metadata": {},
   "outputs": [
    {
     "name": "stdout",
     "output_type": "stream",
     "text": [
      "Train set\n",
      "Logistic Regression roc-auc: 0.7804866036249015\n",
      "Test set\n",
      "Logistic Regression roc-auc: 0.73441615452151\n",
      "              precision    recall  f1-score   support\n",
      "\n",
      "           0       0.82      0.98      0.89       134\n",
      "           1       0.88      0.45      0.60        51\n",
      "\n",
      "    accuracy                           0.83       185\n",
      "   macro avg       0.85      0.71      0.75       185\n",
      "weighted avg       0.84      0.83      0.81       185\n",
      "\n"
     ]
    }
   ],
   "source": [
    "#logistic regression\n",
    "def log(X_train, X_test, y_train, y_test):\n",
    "    logit = LogisticRegression(random_state = 44, max_iter = 500)\n",
    "    logit.fit(X_train, y_train)\n",
    "    print('Train set')\n",
    "    pred = logit.predict_proba(X_train)\n",
    "    print('Logistic Regression roc-auc: {}'.format(roc_auc_score(y_train, pred[:,1])))\n",
    "    print('Test set')\n",
    "    pred = logit.predict_proba(X_test)\n",
    "    print('Logistic Regression roc-auc: {}'.format(roc_auc_score(y_test, pred[:,1])))\n",
    "    print(classification_report(y_test, logit.predict(X_test)))\n",
    "\n",
    "scaler = StandardScaler().fit(X_train)\n",
    "\n",
    "log(scaler.transform(X_train),scaler.transform(X_test), y_train, y_test)"
   ]
  },
  {
   "cell_type": "code",
   "execution_count": 17,
   "metadata": {},
   "outputs": [
    {
     "name": "stdout",
     "output_type": "stream",
     "text": [
      "[21:24:45] WARNING: C:/Users/Administrator/workspace/xgboost-win64_release_1.4.0/src/learner.cc:1095: Starting in XGBoost 1.3.0, the default evaluation metric used with the objective 'binary:logistic' was changed from 'error' to 'logloss'. Explicitly set eval_metric if you'd like to restore the old behavior.\n"
     ]
    },
    {
     "name": "stderr",
     "output_type": "stream",
     "text": [
      "C:\\Users\\Zaur\\anaconda3\\lib\\site-packages\\xgboost\\sklearn.py:1146: UserWarning: The use of label encoder in XGBClassifier is deprecated and will be removed in a future release. To remove this warning, do the following: 1) Pass option use_label_encoder=False when constructing XGBClassifier object; and 2) Encode your labels (y) as integers starting with 0, i.e. 0, 1, 2, ..., [num_class - 1].\n",
      "  warnings.warn(label_encoder_deprecation_msg, UserWarning)\n"
     ]
    },
    {
     "name": "stdout",
     "output_type": "stream",
     "text": [
      "                    XGBoost \n",
      "               precision    recall  f1-score   support\n",
      "\n",
      "           0       0.85      0.90      0.87       134\n",
      "           1       0.68      0.59      0.63        51\n",
      "\n",
      "    accuracy                           0.81       185\n",
      "   macro avg       0.77      0.74      0.75       185\n",
      "weighted avg       0.80      0.81      0.81       185\n",
      "\n"
     ]
    },
    {
     "name": "stderr",
     "output_type": "stream",
     "text": [
      "C:\\Users\\Zaur\\anaconda3\\lib\\site-packages\\xgboost\\data.py:112: UserWarning: Use subset (sliced data) of np.ndarray is not recommended because it will generate extra copies and increase memory consumption\n",
      "  warnings.warn(\n"
     ]
    }
   ],
   "source": [
    "#XGBClassifier\n",
    "def model_assess(model, name='Default'):\n",
    "    model.fit(X_train, y_train)\n",
    "    preds = model.predict(X_test)\n",
    "    preds_proba = model.predict_proba(X_test)\n",
    "    print('                   ', name, '\\n', classification_report(y_test, model.predict(X_test)))\n",
    "   \n",
    "\n",
    "#XGB\n",
    "xgb = XGBClassifier(n_estimators=1000, learning_rate=0.05)\n",
    "model_assess(xgb, 'XGBoost')"
   ]
  },
  {
   "cell_type": "code",
   "execution_count": 18,
   "metadata": {},
   "outputs": [
    {
     "name": "stdout",
     "output_type": "stream",
     "text": [
      "Train\n",
      "The KNeighbors score: 0.7435897435897436\n",
      "Test\n",
      "The KNeighbors score: 0.6270270270270271\n",
      "\n",
      "\n",
      "Predicted    0   1  All\n",
      "Actual                 \n",
      "0          104  30  134\n",
      "1           39  12   51\n",
      "All        143  42  185\n",
      "\n",
      "\n",
      "              precision    recall  f1-score   support\n",
      "\n",
      "           0       0.73      0.78      0.75       134\n",
      "           1       0.29      0.24      0.26        51\n",
      "\n",
      "    accuracy                           0.63       185\n",
      "   macro avg       0.51      0.51      0.50       185\n",
      "weighted avg       0.61      0.63      0.62       185\n",
      "\n"
     ]
    }
   ],
   "source": [
    "#KNeighbors\n",
    "knn = KNeighborsClassifier(5)\n",
    "knn.fit(X_train, y_train)\n",
    "print('Train')\n",
    "print('The KNeighbors score: {}'.format(knn.score(X_train, y_train)))\n",
    "print('Test')\n",
    "print('The KNeighbors score: {}'.format(knn.score(X_test, y_test)))\n",
    "print('\\n')\n",
    "y_pred = knn.predict(X_test)\n",
    "confusion_matrix(y_test,y_pred)\n",
    "print(pd.crosstab(y_test, y_pred, rownames = ['Actual'], colnames =['Predicted'], margins = True))\n",
    "print('\\n')\n",
    "print(classification_report(y_test, y_pred))"
   ]
  },
  {
   "cell_type": "code",
   "execution_count": 19,
   "metadata": {},
   "outputs": [
    {
     "name": "stdout",
     "output_type": "stream",
     "text": [
      "The DecisionTree score: 0.6975417032484635\n",
      "[[116  18]\n",
      " [ 24  27]]\n",
      "              precision    recall  f1-score   support\n",
      "\n",
      "           0       0.83      0.87      0.85       134\n",
      "           1       0.60      0.53      0.56        51\n",
      "\n",
      "    accuracy                           0.77       185\n",
      "   macro avg       0.71      0.70      0.70       185\n",
      "weighted avg       0.77      0.77      0.77       185\n",
      "\n"
     ]
    }
   ],
   "source": [
    "#DecisionTree\n",
    "classifier = DecisionTreeClassifier()\n",
    "classifier.fit(X_train, y_train)\n",
    "y_pred = classifier.predict(X_test)\n",
    "print('The DecisionTree score: {}'.format(metrics.roc_auc_score(y_test,y_pred)))\n",
    "print(confusion_matrix(y_test, y_pred))\n",
    "print(classification_report(y_test, y_pred))"
   ]
  },
  {
   "cell_type": "code",
   "execution_count": 20,
   "metadata": {},
   "outputs": [
    {
     "name": "stdout",
     "output_type": "stream",
     "text": [
      "The AdaBoost score: 0.8\n"
     ]
    }
   ],
   "source": [
    "#AdaBosst\n",
    "abc = AdaBoostClassifier(n_estimators=50,\n",
    "                         learning_rate=1)\n",
    "# Train Adaboost Classifer\n",
    "model = abc.fit(X_train, y_train)\n",
    "\n",
    "#Predict the response for test dataset\n",
    "y_pred = model.predict(X_test)\n",
    "print(\"The AdaBoost score:\",metrics.accuracy_score(y_test, y_pred))"
   ]
  },
  {
   "cell_type": "markdown",
   "metadata": {},
   "source": [
    "From above scores, the models can be listed from the weakest to the strongest as:\n",
    "Linear Regression;\n",
    "Decision Tree;\n",
    "KNeighbors;\n",
    "XGBoost;\n",
    "Logistic Regression;\n",
    "AdaBoost;\n",
    "Random Forest. \n",
    "\n",
    "It should be mentioned that for the KNeigbors algorithm as the number of nodes changes, the score value also changes.\n",
    "The weakest model is Linear Regression whereas the strongest is Random Forest. "
   ]
  }
 ],
 "metadata": {
  "kernelspec": {
   "display_name": "Python 3",
   "language": "python",
   "name": "python3"
  },
  "language_info": {
   "codemirror_mode": {
    "name": "ipython",
    "version": 3
   },
   "file_extension": ".py",
   "mimetype": "text/x-python",
   "name": "python",
   "nbconvert_exporter": "python",
   "pygments_lexer": "ipython3",
   "version": "3.8.5"
  }
 },
 "nbformat": 4,
 "nbformat_minor": 4
}
